{
 "cells": [
  {
   "cell_type": "markdown",
   "id": "0f3f77a2-050c-483c-886f-ba888b6b3649",
   "metadata": {},
   "source": [
    "Answer = 1"
   ]
  },
  {
   "cell_type": "markdown",
   "id": "760244d4-661e-45c1-9338-65086ff609f5",
   "metadata": {},
   "source": [
    "You can sort the given list of tuples based on the integer value using a lambda function and the sorted function in Python. Here's a Python program to do that:"
   ]
  },
  {
   "cell_type": "code",
   "execution_count": 1,
   "id": "6e9bc390-53fe-4e57-b331-19ad9a915e01",
   "metadata": {},
   "outputs": [
    {
     "name": "stdout",
     "output_type": "stream",
     "text": [
      "('Virat Kohli', 24936)\n",
      "('Jack Kallis', 25534)\n",
      "('Ricky Ponting', 27483)\n",
      "('Sachin Tendulkar', 34357)\n"
     ]
    }
   ],
   "source": [
    "data = [('Sachin Tendulkar', 34357), ('Ricky Ponting', 27483), ('Jack Kallis', 25534), ('Virat Kohli', 24936)]\n",
    "\n",
    "# Sort the list based on the second element (the integer value) of each tuple\n",
    "sorted_data = sorted(data, key=lambda x: x[1])\n",
    "\n",
    "# Print the sorted list\n",
    "for item in sorted_data:\n",
    "    print(item)"
   ]
  },
  {
   "cell_type": "markdown",
   "id": "f5eec4e8-1717-46f3-aff6-9013121aafb7",
   "metadata": {},
   "source": [
    "If you want to sort the list in descending order, you can use reverse=True as an argument in the sorted function, like this:"
   ]
  },
  {
   "cell_type": "code",
   "execution_count": 2,
   "id": "c889b0ba-c85a-4793-ba8c-588dcc048679",
   "metadata": {},
   "outputs": [],
   "source": [
    "sorted_data = sorted(data, key=lambda x: x[1], reverse=True)"
   ]
  },
  {
   "cell_type": "markdown",
   "id": "a711097d-0ed5-4358-ba8c-ac19593c17b1",
   "metadata": {},
   "source": [
    "Answer = 2"
   ]
  },
  {
   "cell_type": "markdown",
   "id": "ab238384-a921-4dac-94c0-86fc21ecc6a4",
   "metadata": {},
   "source": [
    "You can use the map function along with a lambda function to find the squares of all the numbers in the given list of integers. Here's a Python program to do that:"
   ]
  },
  {
   "cell_type": "code",
   "execution_count": 3,
   "id": "3a44087e-8a44-40fb-9569-10aaecfbc50b",
   "metadata": {},
   "outputs": [
    {
     "name": "stdout",
     "output_type": "stream",
     "text": [
      "[1, 4, 9, 16, 25, 36, 49, 64, 81, 100]\n"
     ]
    }
   ],
   "source": [
    "# Given list of integers\n",
    "numbers = [1, 2, 3, 4, 5, 6, 7, 8, 9, 10]\n",
    "\n",
    "# Use the map function with a lambda function to find the squares\n",
    "squares = list(map(lambda x: x**2, numbers))\n",
    "\n",
    "# Print the list of squares\n",
    "print(squares)"
   ]
  },
  {
   "cell_type": "markdown",
   "id": "63291ab6-bcbf-4b83-82f2-73fc134d4f6f",
   "metadata": {},
   "source": [
    "The map function applies the lambda function to each element of the numbers list, resulting in a new list containing the squares of the numbers."
   ]
  },
  {
   "cell_type": "markdown",
   "id": "53d0786c-26b1-4bba-bee6-fc075bfc5a3b",
   "metadata": {},
   "source": [
    "Answer = 3"
   ]
  },
  {
   "cell_type": "code",
   "execution_count": 4,
   "id": "b462d5a7-b12d-4da7-acab-c8d63715d225",
   "metadata": {},
   "outputs": [
    {
     "name": "stdout",
     "output_type": "stream",
     "text": [
      "('1', '2', '3', '4', '5', '6', '7', '8', '9', '10')\n"
     ]
    }
   ],
   "source": [
    "# Given list of integers\n",
    "numbers = [1, 2, 3, 4, 5, 6, 7, 8, 9, 10]\n",
    "\n",
    "# Use the map function with a lambda function to convert integers to strings\n",
    "string_tuple = tuple(map(lambda x: str(x), numbers))\n",
    "\n",
    "# Print the tuple of strings\n",
    "print(string_tuple)"
   ]
  },
  {
   "cell_type": "markdown",
   "id": "ade4c630-2b3d-4c67-81ed-3c25db917737",
   "metadata": {},
   "source": [
    "Now, you have a tuple of strings as the expected output."
   ]
  },
  {
   "cell_type": "markdown",
   "id": "76caae98-d9e3-48af-af64-d403b33fb4a4",
   "metadata": {},
   "source": [
    "Answer = 4"
   ]
  },
  {
   "cell_type": "markdown",
   "id": "4681ef4c-b894-452a-9e74-01dd046bea74",
   "metadata": {},
   "source": [
    "You can use the reduce function from the functools module to compute the product of a list containing numbers from 1 to 25. Here's a Python program to do that:"
   ]
  },
  {
   "cell_type": "code",
   "execution_count": 5,
   "id": "0766cc62-3b21-40aa-8d87-1ee9044f3e60",
   "metadata": {},
   "outputs": [
    {
     "name": "stdout",
     "output_type": "stream",
     "text": [
      "The product of numbers from 1 to 25 is: 15511210043330985984000000\n"
     ]
    }
   ],
   "source": [
    "from functools import reduce\n",
    "\n",
    "# Function to compute the product of two numbers\n",
    "def multiply(x, y):\n",
    "    return x * y\n",
    "\n",
    "# Create a list containing numbers from 1 to 25\n",
    "numbers = list(range(1, 26))\n",
    "\n",
    "# Use the reduce function to compute the product of the list\n",
    "product = reduce(multiply, numbers)\n",
    "\n",
    "# Print the result\n",
    "print(\"The product of numbers from 1 to 25 is:\", product)"
   ]
  },
  {
   "cell_type": "markdown",
   "id": "e2448aca-f94d-4f2c-9dae-7f080c1e00a3",
   "metadata": {},
   "source": [
    "In this program, we define a multiply function that takes two arguments and returns their product. We then create a list numbers containing numbers from 1 to 25. Finally, we use the reduce function to apply the multiply function cumulatively to the items in the numbers list, resulting in the product of all the numbers in the list.\n",
    "\n",
    "The output will be:\n",
    "\n",
    "\n",
    "The product of numbers from 1 to 25 is: 15511210043330985984000000\n",
    "\n",
    "This is the product of all the numbers from 1 to 25."
   ]
  },
  {
   "cell_type": "raw",
   "id": "3c269012-6a06-4419-a378-2859db1a5e78",
   "metadata": {},
   "source": [
    "Answer = 5"
   ]
  },
  {
   "cell_type": "markdown",
   "id": "69a8582e-61d5-4e01-887f-466d8f07c29b",
   "metadata": {},
   "source": [
    "You can use the filter function to filter the numbers in the given list that are divisible by both 2 and 3. Here's a Python program to do that:"
   ]
  },
  {
   "cell_type": "code",
   "execution_count": 6,
   "id": "6d01d533-9066-4312-a08f-23912c1281d9",
   "metadata": {},
   "outputs": [
    {
     "name": "stdout",
     "output_type": "stream",
     "text": [
      "[6, 60, 90, 120]\n"
     ]
    }
   ],
   "source": [
    "# Given list of numbers\n",
    "numbers = [2, 3, 6, 9, 27, 60, 90, 120, 55, 46]\n",
    "\n",
    "# Use the filter function with a lambda function to filter numbers divisible by 2 and 3\n",
    "filtered_numbers = list(filter(lambda x: x % 2 == 0 and x % 3 == 0, numbers))\n",
    "\n",
    "# Print the filtered numbers\n",
    "print(filtered_numbers)"
   ]
  },
  {
   "cell_type": "markdown",
   "id": "820b804c-2819-474c-9301-861ccf0be89b",
   "metadata": {},
   "source": [
    "These are the numbers from the original list that are divisible by both 2 and 3.\n",
    "\n",
    "\n",
    "\n",
    "\n"
   ]
  },
  {
   "cell_type": "markdown",
   "id": "d2452688-ae7f-4de4-9142-75e926d61c7b",
   "metadata": {},
   "source": [
    "Answer = 6"
   ]
  },
  {
   "cell_type": "markdown",
   "id": "cd1d2353-b92d-4dd1-b22d-91026b59dd69",
   "metadata": {},
   "source": [
    "You can use the filter function along with a lambda function to find palindromes in the given list of strings. Here's a Python program to do that:"
   ]
  },
  {
   "cell_type": "code",
   "execution_count": 7,
   "id": "b12ea02b-ec48-413b-ac49-df1df4a563f4",
   "metadata": {},
   "outputs": [
    {
     "name": "stdout",
     "output_type": "stream",
     "text": [
      "['php', 'aba', 'radar', 'level']\n"
     ]
    }
   ],
   "source": [
    "# Given list of strings\n",
    "strings = ['python', 'php', 'aba', 'radar', 'level']\n",
    "\n",
    "# Define a lambda function to check for palindromes\n",
    "is_palindrome = lambda s: s == s[::-1]\n",
    "\n",
    "# Use the filter function to filter palindromes from the list\n",
    "palindromes = list(filter(is_palindrome, strings))\n",
    "\n",
    "# Print the palindromes\n",
    "print(palindromes)"
   ]
  },
  {
   "cell_type": "markdown",
   "id": "3610a90a-cd55-4134-b9bb-7c7a261c051f",
   "metadata": {},
   "source": [
    "In this program, we define a lambda function is_palindrome that checks if a string is a palindrome by comparing it to its reverse. We then use the filter function to filter palindromes from the list of strings. The filtered palindromes are stored in the palindromes list.\n",
    "\n",
    "['aba', 'radar', 'level']\n",
    "These are the palindromes found in the given list of strings."
   ]
  },
  {
   "cell_type": "code",
   "execution_count": null,
   "id": "0bafe25d-e7ca-4b98-9691-056686f84d71",
   "metadata": {},
   "outputs": [],
   "source": []
  }
 ],
 "metadata": {
  "kernelspec": {
   "display_name": "Python 3 (ipykernel)",
   "language": "python",
   "name": "python3"
  },
  "language_info": {
   "codemirror_mode": {
    "name": "ipython",
    "version": 3
   },
   "file_extension": ".py",
   "mimetype": "text/x-python",
   "name": "python",
   "nbconvert_exporter": "python",
   "pygments_lexer": "ipython3",
   "version": "3.10.8"
  }
 },
 "nbformat": 4,
 "nbformat_minor": 5
}
